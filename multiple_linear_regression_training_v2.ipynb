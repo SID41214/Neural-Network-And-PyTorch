{
 "cells": [
  {
   "cell_type": "markdown",
   "id": "19671fa3-cc88-4dd7-9d13-4771c510955a",
   "metadata": {},
   "source": [
    "<h1>Linear Regression Multiple Outputs</h1> \n"
   ]
  },
  {
   "cell_type": "markdown",
   "id": "349099ac-4d84-4e61-bd6f-6a3ca6060353",
   "metadata": {},
   "source": [
    "<h2>Objective</h2><ul><li> How to create a complicated models using PyTorch build in functions.</li></ul> \n"
   ]
  },
  {
   "cell_type": "markdown",
   "id": "147a4bf9-e6db-47b0-abb1-9c8852ce3437",
   "metadata": {},
   "source": [
    "<h2>Table of Contents</h2>\n",
    "<p>In this lab, you will create a model the PyTorch way. This will help you more complicated models.</p>\n",
    "\n",
    "<ul>\n",
    "    <li><a href=\"#Makeup-Data\">Make Some Data</a></li>\n",
    "    <li><a href=\"#Model_Cost\">Create the Model and Cost Function the PyTorch way</a></li>\n",
    "    <li><a href=\"#BGD\">Train the Model: Batch Gradient Descent</a></li>\n",
    "</ul>\n",
    "\n",
    "\n",
    "<hr>\n"
   ]
  },
  {
   "cell_type": "markdown",
   "id": "f16a02c1-2481-4f15-9ae4-3e8b113db920",
   "metadata": {},
   "source": [
    "<h2>Preparation</h2>\n"
   ]
  },
  {
   "cell_type": "markdown",
   "id": "10abcd32-9997-40c1-b067-1d7d3acf1853",
   "metadata": {},
   "source": [
    "We'll need the following libraries:\n"
   ]
  },
  {
   "cell_type": "code",
   "execution_count": null,
   "id": "a2972e3d-0337-4085-868c-2b248b79dc83",
   "metadata": {},
   "outputs": [],
   "source": [
    "# Import the libraries we need for this lab\n",
    "\n",
    "from torch import nn,optim\n",
    "import torch\n",
    "import numpy as np\n",
    "import matplotlib.pyplot as plt\n",
    "\n",
    "from mpl_toolkits.mplot3d import Axes3D\n",
    "from torch.utils.data import Dataset, DataLoader\n",
    "import warnings\n",
    "\n",
    "# Suppress all warnings\n",
    "warnings.filterwarnings(\"ignore\")"
   ]
  },
  {
   "cell_type": "markdown",
   "id": "1eb742f7-ee05-444c-90d5-3e18be83b045",
   "metadata": {},
   "source": [
    "Set the random seed:\n"
   ]
  },
  {
   "cell_type": "code",
   "execution_count": null,
   "id": "2a507b11-fc54-4b6f-8bc4-42f1b0d38fbd",
   "metadata": {},
   "outputs": [],
   "source": [
    "# Set the random seed to 1. \n",
    "\n",
    "torch.manual_seed(1)"
   ]
  },
  {
   "cell_type": "markdown",
   "id": "fe6d2844-c67f-43c6-a5e1-c2175a05e863",
   "metadata": {},
   "source": [
    "Use this function for plotting: \n"
   ]
  },
  {
   "cell_type": "code",
   "execution_count": null,
   "id": "56428494-3686-4e42-bf48-a4ea670dfcde",
   "metadata": {},
   "outputs": [],
   "source": [
    "# The function for plotting 2D\n",
    "\n",
    "def Plot_2D_Plane(model, dataset, n=0):\n",
    "    w1 = model.state_dict()['linear.weight'].numpy()[0][0]\n",
    "    w2 = model.state_dict()['linear.weight'].numpy()[0][1]\n",
    "    b = model.state_dict()['linear.bias'].numpy()\n",
    "\n",
    "    # Data\n",
    "    x1 = dataset.x[:, 0].view(-1, 1).numpy()\n",
    "    x2 = dataset.x[:, 1].view(-1, 1).numpy()\n",
    "    y = dataset.y.numpy()\n",
    "\n",
    "    # Make plane\n",
    "    X, Y = np.meshgrid(np.arange(x1.min(), x1.max(), 0.05), np.arange(x2.min(), x2.max(), 0.05))\n",
    "    yhat = w1 * X + w2 * Y + b\n",
    "\n",
    "    # Plotting\n",
    "    fig = plt.figure()\n",
    "    ax = fig.gca(projection='3d')\n",
    "\n",
    "    ax.plot(x1[:, 0], x2[:, 0], y[:, 0],'ro', label='y') # Scatter plot\n",
    "    \n",
    "    ax.plot_surface(X, Y, yhat) # Plane plot\n",
    "    \n",
    "    ax.set_xlabel('x1 ')\n",
    "    ax.set_ylabel('x2 ')\n",
    "    ax.set_zlabel('y')\n",
    "    plt.title('estimated plane iteration:' + str(n))\n",
    "    ax.legend()\n",
    "\n",
    "    plt.show()"
   ]
  },
  {
   "cell_type": "markdown",
   "id": "52559ec6-5cba-4035-8bda-a2e200da7ab6",
   "metadata": {},
   "source": [
    "<!--Empty Space for separating topics-->\n"
   ]
  },
  {
   "cell_type": "markdown",
   "id": "8d1c45cd-ef2d-4aab-826a-4ff68a8be655",
   "metadata": {},
   "source": [
    "<a name=\"Makeup-Data\"><h2 id=\" #Makeup-Data\" > Make Some Data </h2></a>\n"
   ]
  },
  {
   "cell_type": "markdown",
   "id": "3d8b3d15-6629-4ca3-b0b9-47e59ff2470c",
   "metadata": {},
   "source": [
    "Create a dataset class with two-dimensional features:\n"
   ]
  },
  {
   "cell_type": "code",
   "execution_count": null,
   "id": "bf351d9b-b908-4092-8906-b3f5b3885553",
   "metadata": {},
   "outputs": [],
   "source": [
    "# Create a 2D dataset\n",
    "\n",
    "class Data2D(Dataset):\n",
    "    \n",
    "    # Constructor\n",
    "    def __init__(self):\n",
    "        self.x = torch.zeros(20, 2)\n",
    "        self.x[:, 0] = torch.arange(-1, 1, 0.1)\n",
    "        self.x[:, 1] = torch.arange(-1, 1, 0.1)\n",
    "        self.w = torch.tensor([[1.0], [1.0]])\n",
    "        self.b = 1\n",
    "        self.f = torch.mm(self.x, self.w) + self.b    \n",
    "        self.y = self.f + 0.1 * torch.randn((self.x.shape[0],1))\n",
    "        self.len = self.x.shape[0]\n",
    "\n",
    "    # Getter\n",
    "    def __getitem__(self, index):          \n",
    "        return self.x[index], self.y[index]\n",
    "    \n",
    "    # Get Length\n",
    "    def __len__(self):\n",
    "        return self.len"
   ]
  },
  {
   "cell_type": "markdown",
   "id": "a2b38d5c-8902-44e9-a2df-6eb6201eb023",
   "metadata": {},
   "source": [
    "Create a dataset object:\n"
   ]
  },
  {
   "cell_type": "code",
   "execution_count": null,
   "id": "4e53a993-260e-49e4-9c3a-d1517e0f4828",
   "metadata": {},
   "outputs": [],
   "source": [
    "# Create the dataset object\n",
    "\n",
    "data_set = Data2D()"
   ]
  },
  {
   "cell_type": "markdown",
   "id": "8fba1d18-a3ce-422a-a105-21fc46afe264",
   "metadata": {},
   "source": [
    "<a name=\"Model_Cost\"><h2 id=\"Model_Cost\">Create the Model, Optimizer, and Total Loss Function (Cost)</h2></a>\n"
   ]
  },
  {
   "cell_type": "markdown",
   "id": "45582107-80df-41bb-b12a-b3a21de552bc",
   "metadata": {},
   "source": [
    "Create a customized linear regression module: \n"
   ]
  },
  {
   "cell_type": "code",
   "execution_count": null,
   "id": "045c845a-8af1-4d34-b675-24cebfb3cacc",
   "metadata": {},
   "outputs": [],
   "source": [
    "# Create a customized linear\n",
    "\n",
    "class linear_regression(nn.Module):\n",
    "    \n",
    "    # Constructor\n",
    "    def __init__(self, input_size, output_size):\n",
    "        super(linear_regression, self).__init__()\n",
    "        self.linear = nn.Linear(input_size, output_size)\n",
    "        \n",
    "    # Prediction\n",
    "    def forward(self, x):\n",
    "        yhat = self.linear(x)\n",
    "        return yhat"
   ]
  },
  {
   "cell_type": "markdown",
   "id": "4d8249dd-f394-4fba-aff9-fe96798793c9",
   "metadata": {},
   "source": [
    "Create a model. Use two features: make the input size 2 and the output size 1: \n"
   ]
  },
  {
   "cell_type": "code",
   "execution_count": null,
   "id": "d35f0fa7-9aca-459a-9970-70f12af67249",
   "metadata": {},
   "outputs": [],
   "source": [
    "# Create the linear regression model and print the parameters\n",
    "\n",
    "model = linear_regression(2,1)\n",
    "print(\"The parameters: \", list(model.parameters()))"
   ]
  },
  {
   "cell_type": "markdown",
   "id": "d4e1ec5c-e258-46f1-a087-d53c5d6141ae",
   "metadata": {},
   "source": [
    "Create an optimizer  object. Set the learning rate to 0.1. <b>Don't forget to enter the model parameters in the constructor.</b>\n"
   ]
  },
  {
   "cell_type": "markdown",
   "id": "8262fb11-0a12-4ad2-9177-526cb64f415c",
   "metadata": {},
   "source": [
    "<img src=\"https://s3-api.us-geo.objectstorage.softlayer.net/cf-courses-data/CognitiveClass/DL0110EN/notebook_images%20/chapter2/2.6.2paramater_hate.png\" width=\"100\" alt=\"How the optimizer works\">\n"
   ]
  },
  {
   "cell_type": "code",
   "execution_count": null,
   "id": "0f79f9e9-038e-47fe-a269-2d30bc1cd15e",
   "metadata": {},
   "outputs": [],
   "source": [
    "# Create the optimizer\n",
    "\n",
    "optimizer = optim.SGD(model.parameters(), lr=0.1)"
   ]
  },
  {
   "cell_type": "markdown",
   "id": "07904e0e-cf6e-498a-a5c6-3e51e220d392",
   "metadata": {},
   "source": [
    "Create the criterion function that calculates the total loss or cost:\n"
   ]
  },
  {
   "cell_type": "code",
   "execution_count": null,
   "id": "20343e51-9c44-411d-b4fd-88da70039eac",
   "metadata": {},
   "outputs": [],
   "source": [
    "# Create the cost function\n",
    "\n",
    "criterion = nn.MSELoss()"
   ]
  },
  {
   "cell_type": "markdown",
   "id": "8f199ad0-c312-4b25-9ee4-bcc2facfdf21",
   "metadata": {},
   "source": [
    "Create a data loader object. Set the batch_size equal to 2: \n"
   ]
  },
  {
   "cell_type": "code",
   "execution_count": null,
   "id": "55035028-2e4b-4e61-b282-cac2ae96fb38",
   "metadata": {},
   "outputs": [],
   "source": [
    "# Create the data loader\n",
    "\n",
    "train_loader = DataLoader(dataset=data_set, batch_size=2)"
   ]
  },
  {
   "cell_type": "markdown",
   "id": "38503e5a-eb48-4c17-bd64-fd6b69fa24a6",
   "metadata": {},
   "source": [
    "<!--Empty Space for separating topics-->\n"
   ]
  },
  {
   "cell_type": "markdown",
   "id": "f1976831-07ca-427a-89ac-5daf36ac0593",
   "metadata": {},
   "source": [
    "<a name=\"BGD\"><h2 id=\"BGD\">Train the Model via Mini-Batch Gradient Descent</h2></a>\n"
   ]
  },
  {
   "cell_type": "markdown",
   "id": "c88b6b1f-3570-41ae-8c1a-ba795143760f",
   "metadata": {},
   "source": [
    "Run 100 epochs of Mini-Batch Gradient Descent and store the total loss or cost for every iteration. Remember that this is an approximation of the true total loss or cost:\n"
   ]
  },
  {
   "cell_type": "code",
   "execution_count": null,
   "id": "2d9e3c36-8fd5-41d8-b3c8-319fb2e60938",
   "metadata": {},
   "outputs": [],
   "source": [
    "# Train the model\n",
    "\n",
    "LOSS = []\n",
    "print(\"Before Training: \")\n",
    "Plot_2D_Plane(model, data_set)   \n",
    "epochs = 100\n",
    "   \n",
    "def train_model(epochs):    \n",
    "    for epoch in range(epochs):\n",
    "        for x,y in train_loader:\n",
    "            yhat = model(x)\n",
    "            loss = criterion(yhat, y)\n",
    "            LOSS.append(loss.item())\n",
    "            optimizer.zero_grad()\n",
    "            loss.backward()\n",
    "            optimizer.step()     \n",
    "train_model(epochs)\n",
    "print(\"After Training: \")\n",
    "Plot_2D_Plane(model, data_set, epochs)  "
   ]
  },
  {
   "cell_type": "code",
   "execution_count": null,
   "id": "05d66913-eb4a-4133-9ed2-ebe33d3dbfd2",
   "metadata": {},
   "outputs": [],
   "source": [
    "# Plot out the Loss and iteration diagram\n",
    "\n",
    "plt.plot(LOSS)\n",
    "plt.xlabel(\"Iterations \")\n",
    "plt.ylabel(\"Cost/total loss \")"
   ]
  }
 ],
 "metadata": {
  "kernelspec": {
   "display_name": "Python",
   "language": "python",
   "name": "conda-env-python-py"
  },
  "language_info": {
   "codemirror_mode": {
    "name": "ipython",
    "version": 3
   },
   "file_extension": ".py",
   "mimetype": "text/x-python",
   "name": "python",
   "nbconvert_exporter": "python",
   "pygments_lexer": "ipython3",
   "version": "3.7.12"
  },
  "prev_pub_hash": "df966eca7523e1c75fe118794d9cc9bcf263ed675dca200bd9d85b98373db432"
 },
 "nbformat": 4,
 "nbformat_minor": 4
}
